{
 "cells": [
  {
   "cell_type": "code",
   "execution_count": null,
   "metadata": {},
   "outputs": [],
   "source": [
    "%aiida"
   ]
  },
  {
   "cell_type": "code",
   "execution_count": null,
   "metadata": {},
   "outputs": [],
   "source": [
    "try:\n",
    "    import aiida_sssp_workflow\n",
    "except ModuleNotFoundError as err:\n",
    "    print(\"######################################\")\n",
    "    print(\"### Doing initial one-time install ###\")\n",
    "    ! pip install -e .\n",
    "    print(\"######################################\")\n",
    "    ! reentry scan"
   ]
  },
  {
   "cell_type": "code",
   "execution_count": null,
   "metadata": {},
   "outputs": [],
   "source": [
    "from aiidalab_widgets_base import ProcessFollowerWidget, ProgressBarWidget, ProcessReportWidget, ProcessCallStackWidget\n",
    "import ipywidgets as ipw\n",
    "\n",
    "from aiidalab_sssp_workflow.old.pseudo import PseudoSelectionWidget\n",
    "from aiidalab_sssp_workflow.old.delta_factor import ComputeDeltaFactorWidget\n",
    "from aiidalab_sssp_workflow.old.process import ProcessStatusWidget\n",
    "from aiidalab_sssp_workflow.old.process import ProcessInputsWidget, ProcessOutputsWidget"
   ]
  },
  {
   "cell_type": "markdown",
   "metadata": {},
   "source": [
    "## Step 1: Upload the UPF file"
   ]
  },
  {
   "cell_type": "code",
   "execution_count": null,
   "metadata": {
    "scrolled": false
   },
   "outputs": [],
   "source": [
    "pseudo_selection_step = PseudoSelectionWidget()\n",
    "display(pseudo_selection_step)"
   ]
  },
  {
   "cell_type": "markdown",
   "metadata": {},
   "source": [
    "## Step 2: setting parameters and submit"
   ]
  },
  {
   "cell_type": "code",
   "execution_count": null,
   "metadata": {},
   "outputs": [],
   "source": [
    "compute_delta_factor_step = ComputeDeltaFactorWidget()\n",
    "\n",
    "ipw.dlink((pseudo_selection_step, 'confirmed_pseudo'), (compute_delta_factor_step, 'input_pseudo'))\n",
    "\n",
    "# Reset all subsequent steps in case that a new pseudo is selected\n",
    "def _observe_pseudo_selection(change):\n",
    "    with pseudo_selection_step.hold_sync():\n",
    "        if pseudo_selection_step.confirmed_pseudo is not None and \\\n",
    "                pseudo_selection_step.confirmed_pseudo != change['new']:\n",
    "            pseudo_selection_step.confirmed_pseudo = change['new']\n",
    "pseudo_selection_step.observe(_observe_pseudo_selection, 'pseudo')\n"
   ]
  },
  {
   "cell_type": "code",
   "execution_count": null,
   "metadata": {},
   "outputs": [],
   "source": [
    "display(compute_delta_factor_step)"
   ]
  },
  {
   "cell_type": "markdown",
   "metadata": {},
   "source": [
    "## Step3: Check the state of the process"
   ]
  },
  {
   "cell_type": "code",
   "execution_count": null,
   "metadata": {},
   "outputs": [],
   "source": [
    "process_status = ProcessStatusWidget()\n",
    "\n",
    "ipw.dlink((compute_delta_factor_step, 'process'), (process_status, 'process'))"
   ]
  },
  {
   "cell_type": "code",
   "execution_count": null,
   "metadata": {},
   "outputs": [],
   "source": [
    "process_status.process"
   ]
  },
  {
   "cell_type": "code",
   "execution_count": null,
   "metadata": {},
   "outputs": [],
   "source": [
    "display(process_status)"
   ]
  },
  {
   "cell_type": "markdown",
   "metadata": {},
   "source": [
    "## Step4: Check the output of workflow"
   ]
  },
  {
   "cell_type": "code",
   "execution_count": null,
   "metadata": {},
   "outputs": [],
   "source": [
    "process_input = ProcessInputsWidget()\n",
    "process_output = ProcessOutputsWidget()\n",
    "process_follower = ProcessFollowerWidget(\n",
    "    followers=[ProgressBarWidget(), ProcessReportWidget(), ProcessCallStackWidget()], path_to_root='../', \n",
    "    update_interval=2)\n",
    "\n",
    "ipw.dlink((compute_delta_factor_step, 'process'), (process_input, 'process'))\n",
    "ipw.dlink((compute_delta_factor_step, 'process'), (process_output, 'process'))\n",
    "ipw.dlink((compute_delta_factor_step, 'process'), (process_follower, 'process'))"
   ]
  },
  {
   "cell_type": "code",
   "execution_count": null,
   "metadata": {},
   "outputs": [],
   "source": [
    "display(process_input)"
   ]
  },
  {
   "cell_type": "code",
   "execution_count": null,
   "metadata": {},
   "outputs": [],
   "source": [
    "display(process_output)"
   ]
  },
  {
   "cell_type": "code",
   "execution_count": null,
   "metadata": {},
   "outputs": [],
   "source": [
    "process_input.process"
   ]
  },
  {
   "cell_type": "code",
   "execution_count": null,
   "metadata": {},
   "outputs": [],
   "source": [
    "compute_delta_factor_step.process"
   ]
  },
  {
   "cell_type": "code",
   "execution_count": null,
   "metadata": {},
   "outputs": [],
   "source": [
    "display(process_follower)\n",
    "process_follower.follow(detach=True)"
   ]
  },
  {
   "cell_type": "code",
   "execution_count": null,
   "metadata": {},
   "outputs": [],
   "source": [
    "# from aiida.orm import load_node\n",
    "# compute_delta_factor_step.process = load_node(1529)"
   ]
  }
 ],
 "metadata": {
  "kernelspec": {
   "display_name": "Python 3",
   "language": "python",
   "name": "python3"
  },
  "language_info": {
   "codemirror_mode": {
    "name": "ipython",
    "version": 3
   },
   "file_extension": ".py",
   "mimetype": "text/x-python",
   "name": "python",
   "nbconvert_exporter": "python",
   "pygments_lexer": "ipython3",
   "version": "3.7.4"
  }
 },
 "nbformat": 4,
 "nbformat_minor": 2
}