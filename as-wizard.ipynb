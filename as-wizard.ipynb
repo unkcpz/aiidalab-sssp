{
 "metadata": {
  "language_info": {
   "codemirror_mode": {
    "name": "ipython",
    "version": 3
   },
   "file_extension": ".py",
   "mimetype": "text/x-python",
   "name": "python",
   "nbconvert_exporter": "python",
   "pygments_lexer": "ipython3",
   "version": 3
  },
  "orig_nbformat": 2
 },
 "nbformat": 4,
 "nbformat_minor": 2,
 "cells": [
  {
   "cell_type": "code",
   "execution_count": null,
   "metadata": {},
   "outputs": [],
   "source": [
    "from aiidalab_widgets_base import WizardAppWidget\n",
    "\n",
    "from aiidalab_sssp_workflow import wizard\n",
    "\n",
    "\n",
    "# Setup all steps of the app. Setting the `auto_advance` trait to True makes it\n",
    "# so that the next step is automatically selected once the previous step is\n",
    "# in the \"success\" state.\n",
    "upload_pseudo = wizard.UploadPseudoFile(auto_advance=True)\n",
    "verify_pseudo_calculation = wizard.ComputeVerificationWidget()\n",
    "\n",
    "ipw.dlink((upload_pseudo, \"confirmed_pseudo\"), (verify_pseudo_calculation, \"input_pseudo\"))\n",
    "\n",
    "WizardAppWidget(\n",
    "    steps=[\n",
    "        (\"Select pseudopotential\", upload_pseudo),\n",
    "        (\"Compute pseudopotential verification\", verify_pseudo_calculation),\n",
    "    ]\n",
    ")\n"
   ]
  }
 ]
}