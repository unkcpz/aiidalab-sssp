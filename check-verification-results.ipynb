{
 "cells": [
  {
   "cell_type": "code",
   "execution_count": null,
   "metadata": {},
   "outputs": [],
   "source": [
    "%%javascript\n",
    "\n",
    "IPython.OutputArea.prototype._should_scroll = function(lines) {\n",
    "    return false;\n",
    "}"
   ]
  },
  {
   "cell_type": "code",
   "execution_count": null,
   "metadata": {},
   "outputs": [],
   "source": [
    "%aiida"
   ]
  },
  {
   "cell_type": "code",
   "execution_count": null,
   "metadata": {},
   "outputs": [],
   "source": [
    "import urllib.parse as urlparse\n",
    "from aiida.orm import load_node\n",
    "\n",
    "from aiidalab_sssp_workflow.old.viewers import viewer"
   ]
  },
  {
   "cell_type": "code",
   "execution_count": null,
   "metadata": {},
   "outputs": [],
   "source": [
    "url = urlparse.urlsplit(jupyter_notebook_url)\n",
    "url_dict = urlparse.parse_qs(url.query)\n",
    "if 'id' in url_dict:\n",
    "    pk = int(url_dict['id'][0])\n",
    "    process = load_node(pk)\n",
    "else:\n",
    "    process = None"
   ]
  },
  {
   "cell_type": "code",
   "execution_count": null,
   "metadata": {},
   "outputs": [],
   "source": [
    "output = process.outputs.delta_factor__output_pseudo_header\n",
    "display(viewer(output))"
   ]
  },
  {
   "cell_type": "code",
   "execution_count": null,
   "metadata": {},
   "outputs": [],
   "source": [
    "output = process.outputs.band_structure__seekpath_band_structure__band_structure\n",
    "display(viewer(output))"
   ]
  },
  {
   "cell_type": "code",
   "execution_count": null,
   "metadata": {},
   "outputs": [],
   "source": [
    "output = process.outputs.delta_factor__output_parameters\n",
    "display(viewer(output))"
   ]
  },
  {
   "cell_type": "code",
   "execution_count": null,
   "metadata": {},
   "outputs": [],
   "source": [
    "from aiidalab_sssp_workflow.old.check_verification import DeltaFactorResultViewer, ConvergenceResultViewer"
   ]
  },
  {
   "cell_type": "code",
   "execution_count": null,
   "metadata": {},
   "outputs": [],
   "source": [
    "title = 'title'\n",
    "delta_value = process.outputs.delta_factor__output_parameters['delta']\n",
    "input_V0_B0_B1 = process.outputs.delta_factor__output_parameters['birch_murnaghan_results']\n",
    "wien2k_V0_B0_B1 = process.outputs.delta_factor__output_parameters['reference_wien2k_V0_B0_B1']\n",
    "volumes = process.outputs.delta_factor__output_eos_parameters['volume_energy']['volumes'].values()\n",
    "volumes = list(volumes)\n",
    "energies = process.outputs.delta_factor__output_eos_parameters['volume_energy']['energies'].values()\n",
    "energies = list(energies)\n",
    "energy0 = process.outputs.delta_factor__output_birch_murnaghan_fit['E0']\n",
    "\n",
    "delta_result_widget = DeltaFactorResultViewer(title, delta_value, input_V0_B0_B1, wien2k_V0_B0_B1, volumes, energies, energy0)"
   ]
  },
  {
   "cell_type": "code",
   "execution_count": null,
   "metadata": {},
   "outputs": [],
   "source": [
    "display(delta_result_widget)"
   ]
  },
  {
   "cell_type": "code",
   "execution_count": null,
   "metadata": {},
   "outputs": [],
   "source": [
    "xy_data = process.outputs.convergence_phonon_frequencies__xy_data_ecutwfc\n",
    "x_data = xy_data.get_x()[1]\n",
    "x_axis_label = xy_data.get_x()[0]\n",
    "x_unit = xy_data.get_x()[2]\n",
    "\n",
    "y = xy_data.get_y()[2]\n",
    "y_data = y[1]\n",
    "y_axis_label = y[0]\n",
    "y_unit = y[2]\n",
    "\n",
    "try:\n",
    "    output_convergence = process.outputs.convergence_phonon_frequencies__output_convergence_parameters\n",
    "    converge_point = (output_convergence['converge_ecutwfc'], output_convergence['converge_value'])\n",
    "except:\n",
    "    converge_point = None\n",
    "\n",
    "convergence_viewer = ConvergenceResultViewer(x_data, y_data, x_limit=200.0, converge_point=converge_point, converge_tol=0.1, \n",
    "                                             x_axis_label=x_axis_label, x_unit=x_unit,\n",
    "                                             y_axis_label=y_axis_label, y_unit=y_unit)"
   ]
  },
  {
   "cell_type": "code",
   "execution_count": null,
   "metadata": {},
   "outputs": [],
   "source": [
    "converge_point"
   ]
  },
  {
   "cell_type": "code",
   "execution_count": null,
   "metadata": {},
   "outputs": [],
   "source": [
    "display(convergence_viewer)"
   ]
  },
  {
   "cell_type": "code",
   "execution_count": null,
   "metadata": {},
   "outputs": [],
   "source": [
    "xy_data = process.outputs.convergence_cohesive_energy__xy_data_ecutwfc\n",
    "x_data = xy_data.get_x()[1]\n",
    "x_axis_label = xy_data.get_x()[0]\n",
    "x_unit = xy_data.get_x()[2]\n",
    "\n",
    "y = xy_data.get_y()[1]\n",
    "y_data = y[1]\n",
    "y_axis_label = y[0]\n",
    "y_unit = y[2]\n",
    "\n",
    "try:\n",
    "    output_convergence = process.outputs.convergence_cohesive_energy__output_convergence_parameters \n",
    "    converge_point = (output_convergence['converge_ecutwfc'], output_convergence['converge_value'])\n",
    "except:\n",
    "    converge_point = None\n",
    "\n",
    "convergence_viewer = ConvergenceResultViewer(x_data, y_data, x_limit=200.0, converge_point=converge_point, converge_tol=0.1, \n",
    "                                             x_axis_label=x_axis_label, x_unit=x_unit,\n",
    "                                             y_axis_label=y_axis_label, y_unit=y_unit)"
   ]
  },
  {
   "cell_type": "code",
   "execution_count": null,
   "metadata": {},
   "outputs": [],
   "source": [
    "display(convergence_viewer)"
   ]
  },
  {
   "cell_type": "code",
   "execution_count": null,
   "metadata": {},
   "outputs": [],
   "source": [
    "xy_data = process.outputs.convergence_pressure__xy_data_ecutwfc\n",
    "x_data = xy_data.get_x()[1]\n",
    "x_axis_label = xy_data.get_x()[0]\n",
    "x_unit = xy_data.get_x()[2]\n",
    "\n",
    "y = xy_data.get_y()[1]\n",
    "y_data = y[1]\n",
    "y_axis_label = y[0]\n",
    "y_unit = y[2]\n",
    "\n",
    "try:\n",
    "    output_convergence = process.outputs.convergence_pressure__output_convergence_parameters\n",
    "    converge_point = (output_convergence['converge_ecutwfc'], output_convergence['converge_value'])\n",
    "except:\n",
    "    converge_point = None\n",
    "\n",
    "convergence_viewer = ConvergenceResultViewer(x_data, y_data, x_limit=200.0, converge_point=converge_point, converge_tol=0.1, \n",
    "                                             x_axis_label=x_axis_label, x_unit=x_unit,\n",
    "                                             y_axis_label=y_axis_label, y_unit=y_unit)"
   ]
  },
  {
   "cell_type": "code",
   "execution_count": null,
   "metadata": {},
   "outputs": [],
   "source": [
    "display(convergence_viewer)"
   ]
  },
  {
   "cell_type": "code",
   "execution_count": null,
   "metadata": {},
   "outputs": [],
   "source": [
    "xy_data = process.outputs.convergence_bands__xy_data_ecutwfc\n",
    "x_data = xy_data.get_x()[1]\n",
    "x_axis_label = xy_data.get_x()[0]\n",
    "x_unit = xy_data.get_x()[2]\n",
    "\n",
    "y = xy_data.get_y()[3]\n",
    "y_data = y[1]\n",
    "y_axis_label = y[0]\n",
    "y_unit = y[2]\n",
    "\n",
    "try:\n",
    "    output_convergence = process.outputs.convergence_bands__output_convergence_parameters\n",
    "    converge_point = (output_convergence['converge_ecutwfc'], output_convergence['converge_value'])\n",
    "except:\n",
    "    converge_point = None\n",
    "\n",
    "convergence_viewer = ConvergenceResultViewer(x_data, y_data, x_limit=200.0, converge_point=converge_point, converge_tol=0.1, \n",
    "                                             x_axis_label=x_axis_label, x_unit=x_unit,\n",
    "                                             y_axis_label=y_axis_label, y_unit=y_unit)"
   ]
  },
  {
   "cell_type": "code",
   "execution_count": null,
   "metadata": {},
   "outputs": [],
   "source": [
    "display(convergence_viewer)"
   ]
  },
  {
   "cell_type": "code",
   "execution_count": null,
   "metadata": {},
   "outputs": [],
   "source": []
  }
 ],
 "metadata": {
  "kernelspec": {
   "display_name": "Python 3",
   "language": "python",
   "name": "python3"
  },
  "language_info": {
   "codemirror_mode": {
    "name": "ipython",
    "version": 3
   },
   "file_extension": ".py",
   "mimetype": "text/x-python",
   "name": "python",
   "nbconvert_exporter": "python",
   "pygments_lexer": "ipython3",
   "version": "3.7.4"
  }
 },
 "nbformat": 4,
 "nbformat_minor": 4
}